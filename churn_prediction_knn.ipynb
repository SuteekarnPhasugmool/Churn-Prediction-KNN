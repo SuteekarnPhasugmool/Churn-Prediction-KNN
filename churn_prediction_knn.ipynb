{
 "cells": [
  {
   "cell_type": "code",
   "execution_count": 34,
   "id": "0560cf68-14ba-4942-8572-c9a1a2e52b3d",
   "metadata": {},
   "outputs": [],
   "source": [
    "# Import necessary libraries\n",
    "import pandas as pd\n",
    "import matplotlib.pyplot as plt\n",
    "from sklearn.preprocessing import StandardScaler\n",
    "from sklearn.model_selection import train_test_split, GridSearchCV, KFold\n",
    "from sklearn.neighbors import KNeighborsClassifier\n",
    "from sklearn.metrics import classification_report, confusion_matrix, accuracy_score"
   ]
  },
  {
   "cell_type": "code",
   "execution_count": 35,
   "id": "3e06d947-8f0e-4a48-a871-b89ec47cb25b",
   "metadata": {},
   "outputs": [],
   "source": [
    "# Read CSV file\n",
    "df = pd.read_csv('Telco-Customer-Churn.csv')"
   ]
  },
  {
   "cell_type": "code",
   "execution_count": 36,
   "id": "0bb93085-8605-4fc5-b967-7b1e041f3072",
   "metadata": {},
   "outputs": [
    {
     "name": "stdout",
     "output_type": "stream",
     "text": [
      "   customerID  gender  SeniorCitizen Partner Dependents  tenure PhoneService  \\\n",
      "0  7590-VHVEG  Female              0     Yes         No       1           No   \n",
      "1  5575-GNVDE    Male              0      No         No      34          Yes   \n",
      "2  3668-QPYBK    Male              0      No         No       2          Yes   \n",
      "3  7795-CFOCW    Male              0      No         No      45           No   \n",
      "4  9237-HQITU  Female              0      No         No       2          Yes   \n",
      "\n",
      "      MultipleLines InternetService OnlineSecurity  ... DeviceProtection  \\\n",
      "0  No phone service             DSL             No  ...               No   \n",
      "1                No             DSL            Yes  ...              Yes   \n",
      "2                No             DSL            Yes  ...               No   \n",
      "3  No phone service             DSL            Yes  ...              Yes   \n",
      "4                No     Fiber optic             No  ...               No   \n",
      "\n",
      "  TechSupport StreamingTV StreamingMovies        Contract PaperlessBilling  \\\n",
      "0          No          No              No  Month-to-month              Yes   \n",
      "1          No          No              No        One year               No   \n",
      "2          No          No              No  Month-to-month              Yes   \n",
      "3         Yes          No              No        One year               No   \n",
      "4          No          No              No  Month-to-month              Yes   \n",
      "\n",
      "               PaymentMethod MonthlyCharges  TotalCharges Churn  \n",
      "0           Electronic check          29.85         29.85    No  \n",
      "1               Mailed check          56.95        1889.5    No  \n",
      "2               Mailed check          53.85        108.15   Yes  \n",
      "3  Bank transfer (automatic)          42.30       1840.75    No  \n",
      "4           Electronic check          70.70        151.65   Yes  \n",
      "\n",
      "[5 rows x 21 columns]\n"
     ]
    }
   ],
   "source": [
    "# Preview DataFrame head\n",
    "print(df.head())"
   ]
  },
  {
   "cell_type": "code",
   "execution_count": 37,
   "id": "8396fe40-aefd-4a0f-83c4-1996c57a5946",
   "metadata": {},
   "outputs": [
    {
     "name": "stdout",
     "output_type": "stream",
     "text": [
      "<class 'pandas.core.frame.DataFrame'>\n",
      "RangeIndex: 7043 entries, 0 to 7042\n",
      "Data columns (total 21 columns):\n",
      " #   Column            Non-Null Count  Dtype  \n",
      "---  ------            --------------  -----  \n",
      " 0   customerID        7043 non-null   object \n",
      " 1   gender            7043 non-null   object \n",
      " 2   SeniorCitizen     7043 non-null   int64  \n",
      " 3   Partner           7043 non-null   object \n",
      " 4   Dependents        7043 non-null   object \n",
      " 5   tenure            7043 non-null   int64  \n",
      " 6   PhoneService      7043 non-null   object \n",
      " 7   MultipleLines     7043 non-null   object \n",
      " 8   InternetService   7043 non-null   object \n",
      " 9   OnlineSecurity    7043 non-null   object \n",
      " 10  OnlineBackup      7043 non-null   object \n",
      " 11  DeviceProtection  7043 non-null   object \n",
      " 12  TechSupport       7043 non-null   object \n",
      " 13  StreamingTV       7043 non-null   object \n",
      " 14  StreamingMovies   7043 non-null   object \n",
      " 15  Contract          7043 non-null   object \n",
      " 16  PaperlessBilling  7043 non-null   object \n",
      " 17  PaymentMethod     7043 non-null   object \n",
      " 18  MonthlyCharges    7043 non-null   float64\n",
      " 19  TotalCharges      7043 non-null   object \n",
      " 20  Churn             7043 non-null   object \n",
      "dtypes: float64(1), int64(2), object(18)\n",
      "memory usage: 1.1+ MB\n",
      "None\n"
     ]
    }
   ],
   "source": [
    "# Get the summary of the DataFrame\n",
    "print(df.info())"
   ]
  },
  {
   "cell_type": "code",
   "execution_count": 38,
   "id": "4d3be973-18fd-479d-879d-43ce18fa2628",
   "metadata": {},
   "outputs": [
    {
     "name": "stdout",
     "output_type": "stream",
     "text": [
      "customerID          0\n",
      "gender              0\n",
      "SeniorCitizen       0\n",
      "Partner             0\n",
      "Dependents          0\n",
      "tenure              0\n",
      "PhoneService        0\n",
      "MultipleLines       0\n",
      "InternetService     0\n",
      "OnlineSecurity      0\n",
      "OnlineBackup        0\n",
      "DeviceProtection    0\n",
      "TechSupport         0\n",
      "StreamingTV         0\n",
      "StreamingMovies     0\n",
      "Contract            0\n",
      "PaperlessBilling    0\n",
      "PaymentMethod       0\n",
      "MonthlyCharges      0\n",
      "TotalCharges        0\n",
      "Churn               0\n",
      "dtype: int64\n"
     ]
    }
   ],
   "source": [
    "# Check for null values\n",
    "print(df.isnull().sum())"
   ]
  },
  {
   "cell_type": "code",
   "execution_count": 39,
   "id": "c48ade37-4df1-4406-aaa2-383fa4e7d839",
   "metadata": {},
   "outputs": [],
   "source": [
    "# Drop the customerID column\n",
    "df.drop('customerID', axis=1, inplace=True)"
   ]
  },
  {
   "cell_type": "code",
   "execution_count": 40,
   "id": "72d0d150-af10-4182-bce9-27bbd8eec0ed",
   "metadata": {},
   "outputs": [
    {
     "name": "stdout",
     "output_type": "stream",
     "text": [
      "gender: ['Female' 'Male']\n",
      "SeniorCitizen: [0 1]\n",
      "Partner: ['Yes' 'No']\n",
      "Dependents: ['No' 'Yes']\n",
      "tenure: [ 1 34  2 45  8 22 10 28 62 13 16 58 49 25 69 52 71 21 12 30 47 72 17 27\n",
      "  5 46 11 70 63 43 15 60 18 66  9  3 31 50 64 56  7 42 35 48 29 65 38 68\n",
      " 32 55 37 36 41  6  4 33 67 23 57 61 14 20 53 40 59 24 44 19 54 51 26  0\n",
      " 39]\n",
      "PhoneService: ['No' 'Yes']\n",
      "MultipleLines: ['No phone service' 'No' 'Yes']\n",
      "InternetService: ['DSL' 'Fiber optic' 'No']\n",
      "OnlineSecurity: ['No' 'Yes' 'No internet service']\n",
      "OnlineBackup: ['Yes' 'No' 'No internet service']\n",
      "DeviceProtection: ['No' 'Yes' 'No internet service']\n",
      "TechSupport: ['No' 'Yes' 'No internet service']\n",
      "StreamingTV: ['No' 'Yes' 'No internet service']\n",
      "StreamingMovies: ['No' 'Yes' 'No internet service']\n",
      "Contract: ['Month-to-month' 'One year' 'Two year']\n",
      "PaperlessBilling: ['Yes' 'No']\n",
      "PaymentMethod: ['Electronic check' 'Mailed check' 'Bank transfer (automatic)'\n",
      " 'Credit card (automatic)']\n",
      "MonthlyCharges: [29.85 56.95 53.85 ... 63.1  44.2  78.7 ]\n",
      "TotalCharges: ['29.85' '1889.5' '108.15' ... '346.45' '306.6' '6844.5']\n",
      "Churn: ['No' 'Yes']\n"
     ]
    }
   ],
   "source": [
    "# Check for unique values in each column\n",
    "for col in df.columns:\n",
    "    print(f\"{col}: {df[col].unique()}\")"
   ]
  },
  {
   "cell_type": "code",
   "execution_count": 41,
   "id": "19dddff3-3bd3-42fd-8d15-8a21fae80a3f",
   "metadata": {},
   "outputs": [],
   "source": [
    "# Change TotalCharges column to float\n",
    "df['TotalCharges'] = pd.to_numeric(df['TotalCharges'], errors='coerce')\n",
    "# Drop rows with NaN values\n",
    "df = df.dropna()"
   ]
  },
  {
   "cell_type": "code",
   "execution_count": 42,
   "id": "49d7b965-6eb7-43a8-9aa7-33ff95312e2e",
   "metadata": {},
   "outputs": [],
   "source": [
    "# Map Churn column from Yes/No to 1/0\n",
    "df['Churn'] = df['Churn'].map({'Yes':1, 'No':0})"
   ]
  },
  {
   "cell_type": "code",
   "execution_count": 43,
   "id": "2cdc994e-349b-4cef-b3fe-00d68eeb4a6b",
   "metadata": {},
   "outputs": [],
   "source": [
    "# Encode dummy variables for categorical columns\n",
    "df = pd.get_dummies(df, drop_first=True)"
   ]
  },
  {
   "cell_type": "code",
   "execution_count": 44,
   "id": "66b1cced-affe-434e-a11c-76a4a6fe6a74",
   "metadata": {},
   "outputs": [
    {
     "name": "stdout",
     "output_type": "stream",
     "text": [
      "<class 'pandas.core.frame.DataFrame'>\n",
      "Index: 7032 entries, 0 to 7042\n",
      "Data columns (total 31 columns):\n",
      " #   Column                                 Non-Null Count  Dtype  \n",
      "---  ------                                 --------------  -----  \n",
      " 0   SeniorCitizen                          7032 non-null   int64  \n",
      " 1   tenure                                 7032 non-null   int64  \n",
      " 2   MonthlyCharges                         7032 non-null   float64\n",
      " 3   TotalCharges                           7032 non-null   float64\n",
      " 4   Churn                                  7032 non-null   int64  \n",
      " 5   gender_Male                            7032 non-null   bool   \n",
      " 6   Partner_Yes                            7032 non-null   bool   \n",
      " 7   Dependents_Yes                         7032 non-null   bool   \n",
      " 8   PhoneService_Yes                       7032 non-null   bool   \n",
      " 9   MultipleLines_No phone service         7032 non-null   bool   \n",
      " 10  MultipleLines_Yes                      7032 non-null   bool   \n",
      " 11  InternetService_Fiber optic            7032 non-null   bool   \n",
      " 12  InternetService_No                     7032 non-null   bool   \n",
      " 13  OnlineSecurity_No internet service     7032 non-null   bool   \n",
      " 14  OnlineSecurity_Yes                     7032 non-null   bool   \n",
      " 15  OnlineBackup_No internet service       7032 non-null   bool   \n",
      " 16  OnlineBackup_Yes                       7032 non-null   bool   \n",
      " 17  DeviceProtection_No internet service   7032 non-null   bool   \n",
      " 18  DeviceProtection_Yes                   7032 non-null   bool   \n",
      " 19  TechSupport_No internet service        7032 non-null   bool   \n",
      " 20  TechSupport_Yes                        7032 non-null   bool   \n",
      " 21  StreamingTV_No internet service        7032 non-null   bool   \n",
      " 22  StreamingTV_Yes                        7032 non-null   bool   \n",
      " 23  StreamingMovies_No internet service    7032 non-null   bool   \n",
      " 24  StreamingMovies_Yes                    7032 non-null   bool   \n",
      " 25  Contract_One year                      7032 non-null   bool   \n",
      " 26  Contract_Two year                      7032 non-null   bool   \n",
      " 27  PaperlessBilling_Yes                   7032 non-null   bool   \n",
      " 28  PaymentMethod_Credit card (automatic)  7032 non-null   bool   \n",
      " 29  PaymentMethod_Electronic check         7032 non-null   bool   \n",
      " 30  PaymentMethod_Mailed check             7032 non-null   bool   \n",
      "dtypes: bool(26), float64(2), int64(3)\n",
      "memory usage: 508.2 KB\n",
      "None\n"
     ]
    }
   ],
   "source": [
    "# Recheck data types of columns\n",
    "print(df.info())"
   ]
  },
  {
   "cell_type": "code",
   "execution_count": 45,
   "id": "9c1c9b79-18fe-4515-bce2-fce3d27e491b",
   "metadata": {},
   "outputs": [],
   "source": [
    "# Create feature and target arrays\n",
    "X = df.drop('Churn', axis=1).values\n",
    "y = df['Churn'].values\n",
    "\n",
    "# Split the data into train set and test set\n",
    "X_train, X_test, y_train, y_test = train_test_split(X, y, test_size=0.2, random_state=17, stratify=y)\n",
    "\n",
    "# Scale the train and test features\n",
    "scaler = StandardScaler()\n",
    "X_train_scaled = scaler.fit_transform(X_train)\n",
    "X_test_scaled = scaler.transform(X_test)"
   ]
  },
  {
   "cell_type": "code",
   "execution_count": 46,
   "id": "f086828d-56ce-474b-a1a5-fe3092a9828b",
   "metadata": {},
   "outputs": [
    {
     "data": {
      "image/png": "[encoded data removed]",
      "text/plain": [
       "<Figure size 640x480 with 1 Axes>"
      ]
     },
     "metadata": {},
     "output_type": "display_data"
    },
    {
     "name": "stdout",
     "output_type": "stream",
     "text": [
      "Best cross-validation f1-score: 0.5813080191763239\n",
      "Best number of neighbors: 19\n"
     ]
    }
   ],
   "source": [
    "# Instantiate KNN Model\n",
    "knn = KNeighborsClassifier()\n",
    "\n",
    "# Define parameter grid\n",
    "param_grid = {'n_neighbors': range(1,21)}\n",
    "\n",
    "# Define KFold to split data into 5 folds\n",
    "kf = KFold(n_splits=5, shuffle=True, random_state=17)\n",
    "\n",
    "# Apply GridSearchCV to perform 5 folds cross-validation\n",
    "grid = GridSearchCV(knn, param_grid, cv=kf, scoring='f1')\n",
    "grid.fit(X_train_scaled, y_train)\n",
    "\n",
    "# Extract mean test scores and k values from GridSearchCV\n",
    "mean_scores = grid.cv_results_['mean_test_score']\n",
    "k_values = grid.cv_results_['param_n_neighbors']\n",
    "\n",
    "# Plot mean test scores and k values\n",
    "plt.plot(k_values, mean_scores, marker='o')\n",
    "plt.title('Cross-Validation F1-Score of Different k Values')\n",
    "plt.xlabel('Number of Neighbors (k)')\n",
    "plt.ylabel('Mean Cross-Validation F1-Score')\n",
    "plt.xticks(range(1, 21, 2))\n",
    "plt.grid(True)\n",
    "plt.show()\n",
    "\n",
    "# Print the number of neighbors with best score\n",
    "print(f\"Best cross-validation f1-score: {grid.best_score_}\")\n",
    "print(f\"Best number of neighbors: {grid.best_params_['n_neighbors']}\")"
   ]
  },
  {
   "cell_type": "code",
   "execution_count": 47,
   "id": "fa8c76f1-87ab-4f91-90be-5f1d532b2748",
   "metadata": {},
   "outputs": [
    {
     "name": "stdout",
     "output_type": "stream",
     "text": [
      "Confusion Matrix:\n",
      " [[896 137]\n",
      " [156 218]]\n",
      "Classification Report:\n",
      "               precision    recall  f1-score   support\n",
      "\n",
      "           0       0.85      0.87      0.86      1033\n",
      "           1       0.61      0.58      0.60       374\n",
      "\n",
      "    accuracy                           0.79      1407\n",
      "   macro avg       0.73      0.73      0.73      1407\n",
      "weighted avg       0.79      0.79      0.79      1407\n",
      "\n",
      "Accuracy Score: 0.7917555081734187\n"
     ]
    }
   ],
   "source": [
    "# Instantiate new KNN model with the best number of neighbors and train the model\n",
    "knn_best = KNeighborsClassifier(n_neighbors=grid.best_params_['n_neighbors'])\n",
    "knn_best.fit(X_train_scaled, y_train)\n",
    "\n",
    "# Model Evaluation\n",
    "y_pred = knn_best.predict(X_test_scaled)\n",
    "print(\"Confusion Matrix:\\n\", confusion_matrix(y_test, y_pred))\n",
    "print(\"Classification Report:\\n\", classification_report(y_test, y_pred))\n",
    "print(\"Accuracy Score:\", accuracy_score(y_test, y_pred))"
   ]
  }
 ],
 "metadata": {
  "kernelspec": {
   "display_name": "Python 3 (ipykernel)",
   "language": "python",
   "name": "python3"
  },
  "language_info": {
   "codemirror_mode": {
    "name": "ipython",
    "version": 3
   },
   "file_extension": ".py",
   "mimetype": "text/x-python",
   "name": "python",
   "nbconvert_exporter": "python",
   "pygments_lexer": "ipython3",
   "version": "3.13.2"
  }
 },
 "nbformat": 4,
 "nbformat_minor": 5
}
